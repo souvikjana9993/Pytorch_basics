{
  "nbformat": 4,
  "nbformat_minor": 0,
  "metadata": {
    "colab": {
      "name": "BuildingRNNsfromScratch.ipynb",
      "provenance": [],
      "collapsed_sections": []
    },
    "kernelspec": {
      "name": "python3",
      "display_name": "Python 3"
    },
    "accelerator": "GPU",
    "widgets": {
      "application/vnd.jupyter.widget-state+json": {
        "d9f921d104424e198c9ec8629fb47c40": {
          "model_module": "@jupyter-widgets/controls",
          "model_name": "HBoxModel",
          "state": {
            "_view_name": "HBoxView",
            "_dom_classes": [],
            "_model_name": "HBoxModel",
            "_view_module": "@jupyter-widgets/controls",
            "_model_module_version": "1.5.0",
            "_view_count": null,
            "_view_module_version": "1.5.0",
            "box_style": "",
            "layout": "IPY_MODEL_7c67b6516a5d4395bf78f146099bffd0",
            "_model_module": "@jupyter-widgets/controls",
            "children": [
              "IPY_MODEL_0546c9be6593419cbcd8c1926e73fe92",
              "IPY_MODEL_42b8674aa1544f5ba13a6ca48c1f9cdb"
            ]
          }
        },
        "7c67b6516a5d4395bf78f146099bffd0": {
          "model_module": "@jupyter-widgets/base",
          "model_name": "LayoutModel",
          "state": {
            "_view_name": "LayoutView",
            "grid_template_rows": null,
            "right": null,
            "justify_content": null,
            "_view_module": "@jupyter-widgets/base",
            "overflow": null,
            "_model_module_version": "1.2.0",
            "_view_count": null,
            "flex_flow": null,
            "width": null,
            "min_width": null,
            "border": null,
            "align_items": null,
            "bottom": null,
            "_model_module": "@jupyter-widgets/base",
            "top": null,
            "grid_column": null,
            "overflow_y": null,
            "overflow_x": null,
            "grid_auto_flow": null,
            "grid_area": null,
            "grid_template_columns": null,
            "flex": null,
            "_model_name": "LayoutModel",
            "justify_items": null,
            "grid_row": null,
            "max_height": null,
            "align_content": null,
            "visibility": null,
            "align_self": null,
            "height": null,
            "min_height": null,
            "padding": null,
            "grid_auto_rows": null,
            "grid_gap": null,
            "max_width": null,
            "order": null,
            "_view_module_version": "1.2.0",
            "grid_template_areas": null,
            "object_position": null,
            "object_fit": null,
            "grid_auto_columns": null,
            "margin": null,
            "display": null,
            "left": null
          }
        },
        "0546c9be6593419cbcd8c1926e73fe92": {
          "model_module": "@jupyter-widgets/controls",
          "model_name": "IntProgressModel",
          "state": {
            "_view_name": "ProgressView",
            "style": "IPY_MODEL_7f0ef4577a4d45299f6e2aa2ad9a03dd",
            "_dom_classes": [],
            "description": "",
            "_model_name": "IntProgressModel",
            "bar_style": "success",
            "max": 1,
            "_view_module": "@jupyter-widgets/controls",
            "_model_module_version": "1.5.0",
            "value": 1,
            "_view_count": null,
            "_view_module_version": "1.5.0",
            "orientation": "horizontal",
            "min": 0,
            "description_tooltip": null,
            "_model_module": "@jupyter-widgets/controls",
            "layout": "IPY_MODEL_f3fd0556b4544b11a8343386c1df41b2"
          }
        },
        "42b8674aa1544f5ba13a6ca48c1f9cdb": {
          "model_module": "@jupyter-widgets/controls",
          "model_name": "HTMLModel",
          "state": {
            "_view_name": "HTMLView",
            "style": "IPY_MODEL_b1298ea2eb994fcebc47237621d12f58",
            "_dom_classes": [],
            "description": "",
            "_model_name": "HTMLModel",
            "placeholder": "​",
            "_view_module": "@jupyter-widgets/controls",
            "_model_module_version": "1.5.0",
            "value": " 9920512/? [00:02&lt;00:00, 3973904.30it/s]",
            "_view_count": null,
            "_view_module_version": "1.5.0",
            "description_tooltip": null,
            "_model_module": "@jupyter-widgets/controls",
            "layout": "IPY_MODEL_f4c825a5d4124293b37f56e39683340f"
          }
        },
        "7f0ef4577a4d45299f6e2aa2ad9a03dd": {
          "model_module": "@jupyter-widgets/controls",
          "model_name": "ProgressStyleModel",
          "state": {
            "_view_name": "StyleView",
            "_model_name": "ProgressStyleModel",
            "description_width": "initial",
            "_view_module": "@jupyter-widgets/base",
            "_model_module_version": "1.5.0",
            "_view_count": null,
            "_view_module_version": "1.2.0",
            "bar_color": null,
            "_model_module": "@jupyter-widgets/controls"
          }
        },
        "f3fd0556b4544b11a8343386c1df41b2": {
          "model_module": "@jupyter-widgets/base",
          "model_name": "LayoutModel",
          "state": {
            "_view_name": "LayoutView",
            "grid_template_rows": null,
            "right": null,
            "justify_content": null,
            "_view_module": "@jupyter-widgets/base",
            "overflow": null,
            "_model_module_version": "1.2.0",
            "_view_count": null,
            "flex_flow": null,
            "width": null,
            "min_width": null,
            "border": null,
            "align_items": null,
            "bottom": null,
            "_model_module": "@jupyter-widgets/base",
            "top": null,
            "grid_column": null,
            "overflow_y": null,
            "overflow_x": null,
            "grid_auto_flow": null,
            "grid_area": null,
            "grid_template_columns": null,
            "flex": null,
            "_model_name": "LayoutModel",
            "justify_items": null,
            "grid_row": null,
            "max_height": null,
            "align_content": null,
            "visibility": null,
            "align_self": null,
            "height": null,
            "min_height": null,
            "padding": null,
            "grid_auto_rows": null,
            "grid_gap": null,
            "max_width": null,
            "order": null,
            "_view_module_version": "1.2.0",
            "grid_template_areas": null,
            "object_position": null,
            "object_fit": null,
            "grid_auto_columns": null,
            "margin": null,
            "display": null,
            "left": null
          }
        },
        "b1298ea2eb994fcebc47237621d12f58": {
          "model_module": "@jupyter-widgets/controls",
          "model_name": "DescriptionStyleModel",
          "state": {
            "_view_name": "StyleView",
            "_model_name": "DescriptionStyleModel",
            "description_width": "",
            "_view_module": "@jupyter-widgets/base",
            "_model_module_version": "1.5.0",
            "_view_count": null,
            "_view_module_version": "1.2.0",
            "_model_module": "@jupyter-widgets/controls"
          }
        },
        "f4c825a5d4124293b37f56e39683340f": {
          "model_module": "@jupyter-widgets/base",
          "model_name": "LayoutModel",
          "state": {
            "_view_name": "LayoutView",
            "grid_template_rows": null,
            "right": null,
            "justify_content": null,
            "_view_module": "@jupyter-widgets/base",
            "overflow": null,
            "_model_module_version": "1.2.0",
            "_view_count": null,
            "flex_flow": null,
            "width": null,
            "min_width": null,
            "border": null,
            "align_items": null,
            "bottom": null,
            "_model_module": "@jupyter-widgets/base",
            "top": null,
            "grid_column": null,
            "overflow_y": null,
            "overflow_x": null,
            "grid_auto_flow": null,
            "grid_area": null,
            "grid_template_columns": null,
            "flex": null,
            "_model_name": "LayoutModel",
            "justify_items": null,
            "grid_row": null,
            "max_height": null,
            "align_content": null,
            "visibility": null,
            "align_self": null,
            "height": null,
            "min_height": null,
            "padding": null,
            "grid_auto_rows": null,
            "grid_gap": null,
            "max_width": null,
            "order": null,
            "_view_module_version": "1.2.0",
            "grid_template_areas": null,
            "object_position": null,
            "object_fit": null,
            "grid_auto_columns": null,
            "margin": null,
            "display": null,
            "left": null
          }
        },
        "70e17f3d1f2a4b6090177a9a668a3c9a": {
          "model_module": "@jupyter-widgets/controls",
          "model_name": "HBoxModel",
          "state": {
            "_view_name": "HBoxView",
            "_dom_classes": [],
            "_model_name": "HBoxModel",
            "_view_module": "@jupyter-widgets/controls",
            "_model_module_version": "1.5.0",
            "_view_count": null,
            "_view_module_version": "1.5.0",
            "box_style": "",
            "layout": "IPY_MODEL_de98235afa8847a7956a92acd81765bd",
            "_model_module": "@jupyter-widgets/controls",
            "children": [
              "IPY_MODEL_b93a90b971ee4fcf8011ec6113d19578",
              "IPY_MODEL_0e7024fa79d0430e9b32f9ba2ce99638"
            ]
          }
        },
        "de98235afa8847a7956a92acd81765bd": {
          "model_module": "@jupyter-widgets/base",
          "model_name": "LayoutModel",
          "state": {
            "_view_name": "LayoutView",
            "grid_template_rows": null,
            "right": null,
            "justify_content": null,
            "_view_module": "@jupyter-widgets/base",
            "overflow": null,
            "_model_module_version": "1.2.0",
            "_view_count": null,
            "flex_flow": null,
            "width": null,
            "min_width": null,
            "border": null,
            "align_items": null,
            "bottom": null,
            "_model_module": "@jupyter-widgets/base",
            "top": null,
            "grid_column": null,
            "overflow_y": null,
            "overflow_x": null,
            "grid_auto_flow": null,
            "grid_area": null,
            "grid_template_columns": null,
            "flex": null,
            "_model_name": "LayoutModel",
            "justify_items": null,
            "grid_row": null,
            "max_height": null,
            "align_content": null,
            "visibility": null,
            "align_self": null,
            "height": null,
            "min_height": null,
            "padding": null,
            "grid_auto_rows": null,
            "grid_gap": null,
            "max_width": null,
            "order": null,
            "_view_module_version": "1.2.0",
            "grid_template_areas": null,
            "object_position": null,
            "object_fit": null,
            "grid_auto_columns": null,
            "margin": null,
            "display": null,
            "left": null
          }
        },
        "b93a90b971ee4fcf8011ec6113d19578": {
          "model_module": "@jupyter-widgets/controls",
          "model_name": "IntProgressModel",
          "state": {
            "_view_name": "ProgressView",
            "style": "IPY_MODEL_789a5e2fe1704e93a747ae9e6cdc6b77",
            "_dom_classes": [],
            "description": "",
            "_model_name": "IntProgressModel",
            "bar_style": "success",
            "max": 1,
            "_view_module": "@jupyter-widgets/controls",
            "_model_module_version": "1.5.0",
            "value": 1,
            "_view_count": null,
            "_view_module_version": "1.5.0",
            "orientation": "horizontal",
            "min": 0,
            "description_tooltip": null,
            "_model_module": "@jupyter-widgets/controls",
            "layout": "IPY_MODEL_73868f81de75486ba4dacfa343848868"
          }
        },
        "0e7024fa79d0430e9b32f9ba2ce99638": {
          "model_module": "@jupyter-widgets/controls",
          "model_name": "HTMLModel",
          "state": {
            "_view_name": "HTMLView",
            "style": "IPY_MODEL_4f92ae23af234946b5ff8c5612721903",
            "_dom_classes": [],
            "description": "",
            "_model_name": "HTMLModel",
            "placeholder": "​",
            "_view_module": "@jupyter-widgets/controls",
            "_model_module_version": "1.5.0",
            "value": " 32768/? [00:01&lt;00:00, 27384.60it/s]",
            "_view_count": null,
            "_view_module_version": "1.5.0",
            "description_tooltip": null,
            "_model_module": "@jupyter-widgets/controls",
            "layout": "IPY_MODEL_3662d227fb3d4fc5aa92d579be8d96f1"
          }
        },
        "789a5e2fe1704e93a747ae9e6cdc6b77": {
          "model_module": "@jupyter-widgets/controls",
          "model_name": "ProgressStyleModel",
          "state": {
            "_view_name": "StyleView",
            "_model_name": "ProgressStyleModel",
            "description_width": "initial",
            "_view_module": "@jupyter-widgets/base",
            "_model_module_version": "1.5.0",
            "_view_count": null,
            "_view_module_version": "1.2.0",
            "bar_color": null,
            "_model_module": "@jupyter-widgets/controls"
          }
        },
        "73868f81de75486ba4dacfa343848868": {
          "model_module": "@jupyter-widgets/base",
          "model_name": "LayoutModel",
          "state": {
            "_view_name": "LayoutView",
            "grid_template_rows": null,
            "right": null,
            "justify_content": null,
            "_view_module": "@jupyter-widgets/base",
            "overflow": null,
            "_model_module_version": "1.2.0",
            "_view_count": null,
            "flex_flow": null,
            "width": null,
            "min_width": null,
            "border": null,
            "align_items": null,
            "bottom": null,
            "_model_module": "@jupyter-widgets/base",
            "top": null,
            "grid_column": null,
            "overflow_y": null,
            "overflow_x": null,
            "grid_auto_flow": null,
            "grid_area": null,
            "grid_template_columns": null,
            "flex": null,
            "_model_name": "LayoutModel",
            "justify_items": null,
            "grid_row": null,
            "max_height": null,
            "align_content": null,
            "visibility": null,
            "align_self": null,
            "height": null,
            "min_height": null,
            "padding": null,
            "grid_auto_rows": null,
            "grid_gap": null,
            "max_width": null,
            "order": null,
            "_view_module_version": "1.2.0",
            "grid_template_areas": null,
            "object_position": null,
            "object_fit": null,
            "grid_auto_columns": null,
            "margin": null,
            "display": null,
            "left": null
          }
        },
        "4f92ae23af234946b5ff8c5612721903": {
          "model_module": "@jupyter-widgets/controls",
          "model_name": "DescriptionStyleModel",
          "state": {
            "_view_name": "StyleView",
            "_model_name": "DescriptionStyleModel",
            "description_width": "",
            "_view_module": "@jupyter-widgets/base",
            "_model_module_version": "1.5.0",
            "_view_count": null,
            "_view_module_version": "1.2.0",
            "_model_module": "@jupyter-widgets/controls"
          }
        },
        "3662d227fb3d4fc5aa92d579be8d96f1": {
          "model_module": "@jupyter-widgets/base",
          "model_name": "LayoutModel",
          "state": {
            "_view_name": "LayoutView",
            "grid_template_rows": null,
            "right": null,
            "justify_content": null,
            "_view_module": "@jupyter-widgets/base",
            "overflow": null,
            "_model_module_version": "1.2.0",
            "_view_count": null,
            "flex_flow": null,
            "width": null,
            "min_width": null,
            "border": null,
            "align_items": null,
            "bottom": null,
            "_model_module": "@jupyter-widgets/base",
            "top": null,
            "grid_column": null,
            "overflow_y": null,
            "overflow_x": null,
            "grid_auto_flow": null,
            "grid_area": null,
            "grid_template_columns": null,
            "flex": null,
            "_model_name": "LayoutModel",
            "justify_items": null,
            "grid_row": null,
            "max_height": null,
            "align_content": null,
            "visibility": null,
            "align_self": null,
            "height": null,
            "min_height": null,
            "padding": null,
            "grid_auto_rows": null,
            "grid_gap": null,
            "max_width": null,
            "order": null,
            "_view_module_version": "1.2.0",
            "grid_template_areas": null,
            "object_position": null,
            "object_fit": null,
            "grid_auto_columns": null,
            "margin": null,
            "display": null,
            "left": null
          }
        },
        "7de29316e099494ea621b16700aeb35b": {
          "model_module": "@jupyter-widgets/controls",
          "model_name": "HBoxModel",
          "state": {
            "_view_name": "HBoxView",
            "_dom_classes": [],
            "_model_name": "HBoxModel",
            "_view_module": "@jupyter-widgets/controls",
            "_model_module_version": "1.5.0",
            "_view_count": null,
            "_view_module_version": "1.5.0",
            "box_style": "",
            "layout": "IPY_MODEL_a7a5cd3cd488480eb6ad36f5d642d9c7",
            "_model_module": "@jupyter-widgets/controls",
            "children": [
              "IPY_MODEL_7de468864c7847c8b3905328d0a8b22e",
              "IPY_MODEL_639d862101eb4a359151c1ab45449ac9"
            ]
          }
        },
        "a7a5cd3cd488480eb6ad36f5d642d9c7": {
          "model_module": "@jupyter-widgets/base",
          "model_name": "LayoutModel",
          "state": {
            "_view_name": "LayoutView",
            "grid_template_rows": null,
            "right": null,
            "justify_content": null,
            "_view_module": "@jupyter-widgets/base",
            "overflow": null,
            "_model_module_version": "1.2.0",
            "_view_count": null,
            "flex_flow": null,
            "width": null,
            "min_width": null,
            "border": null,
            "align_items": null,
            "bottom": null,
            "_model_module": "@jupyter-widgets/base",
            "top": null,
            "grid_column": null,
            "overflow_y": null,
            "overflow_x": null,
            "grid_auto_flow": null,
            "grid_area": null,
            "grid_template_columns": null,
            "flex": null,
            "_model_name": "LayoutModel",
            "justify_items": null,
            "grid_row": null,
            "max_height": null,
            "align_content": null,
            "visibility": null,
            "align_self": null,
            "height": null,
            "min_height": null,
            "padding": null,
            "grid_auto_rows": null,
            "grid_gap": null,
            "max_width": null,
            "order": null,
            "_view_module_version": "1.2.0",
            "grid_template_areas": null,
            "object_position": null,
            "object_fit": null,
            "grid_auto_columns": null,
            "margin": null,
            "display": null,
            "left": null
          }
        },
        "7de468864c7847c8b3905328d0a8b22e": {
          "model_module": "@jupyter-widgets/controls",
          "model_name": "IntProgressModel",
          "state": {
            "_view_name": "ProgressView",
            "style": "IPY_MODEL_6c8293a1ef714b1ba4ae2967a5d809b4",
            "_dom_classes": [],
            "description": "",
            "_model_name": "IntProgressModel",
            "bar_style": "success",
            "max": 1,
            "_view_module": "@jupyter-widgets/controls",
            "_model_module_version": "1.5.0",
            "value": 1,
            "_view_count": null,
            "_view_module_version": "1.5.0",
            "orientation": "horizontal",
            "min": 0,
            "description_tooltip": null,
            "_model_module": "@jupyter-widgets/controls",
            "layout": "IPY_MODEL_340e8eb39769426b8d67887e8f150654"
          }
        },
        "639d862101eb4a359151c1ab45449ac9": {
          "model_module": "@jupyter-widgets/controls",
          "model_name": "HTMLModel",
          "state": {
            "_view_name": "HTMLView",
            "style": "IPY_MODEL_b90c4c8f3d37428c86507b85e72121df",
            "_dom_classes": [],
            "description": "",
            "_model_name": "HTMLModel",
            "placeholder": "​",
            "_view_module": "@jupyter-widgets/controls",
            "_model_module_version": "1.5.0",
            "value": " 1654784/? [00:00&lt;00:00, 1744832.29it/s]",
            "_view_count": null,
            "_view_module_version": "1.5.0",
            "description_tooltip": null,
            "_model_module": "@jupyter-widgets/controls",
            "layout": "IPY_MODEL_53dac0a1c3d1440cab44743db8b2f7af"
          }
        },
        "6c8293a1ef714b1ba4ae2967a5d809b4": {
          "model_module": "@jupyter-widgets/controls",
          "model_name": "ProgressStyleModel",
          "state": {
            "_view_name": "StyleView",
            "_model_name": "ProgressStyleModel",
            "description_width": "initial",
            "_view_module": "@jupyter-widgets/base",
            "_model_module_version": "1.5.0",
            "_view_count": null,
            "_view_module_version": "1.2.0",
            "bar_color": null,
            "_model_module": "@jupyter-widgets/controls"
          }
        },
        "340e8eb39769426b8d67887e8f150654": {
          "model_module": "@jupyter-widgets/base",
          "model_name": "LayoutModel",
          "state": {
            "_view_name": "LayoutView",
            "grid_template_rows": null,
            "right": null,
            "justify_content": null,
            "_view_module": "@jupyter-widgets/base",
            "overflow": null,
            "_model_module_version": "1.2.0",
            "_view_count": null,
            "flex_flow": null,
            "width": null,
            "min_width": null,
            "border": null,
            "align_items": null,
            "bottom": null,
            "_model_module": "@jupyter-widgets/base",
            "top": null,
            "grid_column": null,
            "overflow_y": null,
            "overflow_x": null,
            "grid_auto_flow": null,
            "grid_area": null,
            "grid_template_columns": null,
            "flex": null,
            "_model_name": "LayoutModel",
            "justify_items": null,
            "grid_row": null,
            "max_height": null,
            "align_content": null,
            "visibility": null,
            "align_self": null,
            "height": null,
            "min_height": null,
            "padding": null,
            "grid_auto_rows": null,
            "grid_gap": null,
            "max_width": null,
            "order": null,
            "_view_module_version": "1.2.0",
            "grid_template_areas": null,
            "object_position": null,
            "object_fit": null,
            "grid_auto_columns": null,
            "margin": null,
            "display": null,
            "left": null
          }
        },
        "b90c4c8f3d37428c86507b85e72121df": {
          "model_module": "@jupyter-widgets/controls",
          "model_name": "DescriptionStyleModel",
          "state": {
            "_view_name": "StyleView",
            "_model_name": "DescriptionStyleModel",
            "description_width": "",
            "_view_module": "@jupyter-widgets/base",
            "_model_module_version": "1.5.0",
            "_view_count": null,
            "_view_module_version": "1.2.0",
            "_model_module": "@jupyter-widgets/controls"
          }
        },
        "53dac0a1c3d1440cab44743db8b2f7af": {
          "model_module": "@jupyter-widgets/base",
          "model_name": "LayoutModel",
          "state": {
            "_view_name": "LayoutView",
            "grid_template_rows": null,
            "right": null,
            "justify_content": null,
            "_view_module": "@jupyter-widgets/base",
            "overflow": null,
            "_model_module_version": "1.2.0",
            "_view_count": null,
            "flex_flow": null,
            "width": null,
            "min_width": null,
            "border": null,
            "align_items": null,
            "bottom": null,
            "_model_module": "@jupyter-widgets/base",
            "top": null,
            "grid_column": null,
            "overflow_y": null,
            "overflow_x": null,
            "grid_auto_flow": null,
            "grid_area": null,
            "grid_template_columns": null,
            "flex": null,
            "_model_name": "LayoutModel",
            "justify_items": null,
            "grid_row": null,
            "max_height": null,
            "align_content": null,
            "visibility": null,
            "align_self": null,
            "height": null,
            "min_height": null,
            "padding": null,
            "grid_auto_rows": null,
            "grid_gap": null,
            "max_width": null,
            "order": null,
            "_view_module_version": "1.2.0",
            "grid_template_areas": null,
            "object_position": null,
            "object_fit": null,
            "grid_auto_columns": null,
            "margin": null,
            "display": null,
            "left": null
          }
        },
        "999d3c01c6da466f8ee835de4edb2660": {
          "model_module": "@jupyter-widgets/controls",
          "model_name": "HBoxModel",
          "state": {
            "_view_name": "HBoxView",
            "_dom_classes": [],
            "_model_name": "HBoxModel",
            "_view_module": "@jupyter-widgets/controls",
            "_model_module_version": "1.5.0",
            "_view_count": null,
            "_view_module_version": "1.5.0",
            "box_style": "",
            "layout": "IPY_MODEL_c5ba8e2ff2bb44d992eade17ff1abde6",
            "_model_module": "@jupyter-widgets/controls",
            "children": [
              "IPY_MODEL_3675bc15bb31418e970f7a4d7e8103a6",
              "IPY_MODEL_4c3912b683954e28ab6f480731ef891c"
            ]
          }
        },
        "c5ba8e2ff2bb44d992eade17ff1abde6": {
          "model_module": "@jupyter-widgets/base",
          "model_name": "LayoutModel",
          "state": {
            "_view_name": "LayoutView",
            "grid_template_rows": null,
            "right": null,
            "justify_content": null,
            "_view_module": "@jupyter-widgets/base",
            "overflow": null,
            "_model_module_version": "1.2.0",
            "_view_count": null,
            "flex_flow": null,
            "width": null,
            "min_width": null,
            "border": null,
            "align_items": null,
            "bottom": null,
            "_model_module": "@jupyter-widgets/base",
            "top": null,
            "grid_column": null,
            "overflow_y": null,
            "overflow_x": null,
            "grid_auto_flow": null,
            "grid_area": null,
            "grid_template_columns": null,
            "flex": null,
            "_model_name": "LayoutModel",
            "justify_items": null,
            "grid_row": null,
            "max_height": null,
            "align_content": null,
            "visibility": null,
            "align_self": null,
            "height": null,
            "min_height": null,
            "padding": null,
            "grid_auto_rows": null,
            "grid_gap": null,
            "max_width": null,
            "order": null,
            "_view_module_version": "1.2.0",
            "grid_template_areas": null,
            "object_position": null,
            "object_fit": null,
            "grid_auto_columns": null,
            "margin": null,
            "display": null,
            "left": null
          }
        },
        "3675bc15bb31418e970f7a4d7e8103a6": {
          "model_module": "@jupyter-widgets/controls",
          "model_name": "IntProgressModel",
          "state": {
            "_view_name": "ProgressView",
            "style": "IPY_MODEL_ab313c67509f43abb337b8a406abd479",
            "_dom_classes": [],
            "description": "",
            "_model_name": "IntProgressModel",
            "bar_style": "success",
            "max": 1,
            "_view_module": "@jupyter-widgets/controls",
            "_model_module_version": "1.5.0",
            "value": 1,
            "_view_count": null,
            "_view_module_version": "1.5.0",
            "orientation": "horizontal",
            "min": 0,
            "description_tooltip": null,
            "_model_module": "@jupyter-widgets/controls",
            "layout": "IPY_MODEL_e7f3c4794f2d453fb38e450f8ef41d67"
          }
        },
        "4c3912b683954e28ab6f480731ef891c": {
          "model_module": "@jupyter-widgets/controls",
          "model_name": "HTMLModel",
          "state": {
            "_view_name": "HTMLView",
            "style": "IPY_MODEL_e0acf35e26a74bc590d772d445d9e5c3",
            "_dom_classes": [],
            "description": "",
            "_model_name": "HTMLModel",
            "placeholder": "​",
            "_view_module": "@jupyter-widgets/controls",
            "_model_module_version": "1.5.0",
            "value": " 8192/? [00:00&lt;00:00, 30410.80it/s]",
            "_view_count": null,
            "_view_module_version": "1.5.0",
            "description_tooltip": null,
            "_model_module": "@jupyter-widgets/controls",
            "layout": "IPY_MODEL_2f4f7056a50c440aa1d56e99aa6ab785"
          }
        },
        "ab313c67509f43abb337b8a406abd479": {
          "model_module": "@jupyter-widgets/controls",
          "model_name": "ProgressStyleModel",
          "state": {
            "_view_name": "StyleView",
            "_model_name": "ProgressStyleModel",
            "description_width": "initial",
            "_view_module": "@jupyter-widgets/base",
            "_model_module_version": "1.5.0",
            "_view_count": null,
            "_view_module_version": "1.2.0",
            "bar_color": null,
            "_model_module": "@jupyter-widgets/controls"
          }
        },
        "e7f3c4794f2d453fb38e450f8ef41d67": {
          "model_module": "@jupyter-widgets/base",
          "model_name": "LayoutModel",
          "state": {
            "_view_name": "LayoutView",
            "grid_template_rows": null,
            "right": null,
            "justify_content": null,
            "_view_module": "@jupyter-widgets/base",
            "overflow": null,
            "_model_module_version": "1.2.0",
            "_view_count": null,
            "flex_flow": null,
            "width": null,
            "min_width": null,
            "border": null,
            "align_items": null,
            "bottom": null,
            "_model_module": "@jupyter-widgets/base",
            "top": null,
            "grid_column": null,
            "overflow_y": null,
            "overflow_x": null,
            "grid_auto_flow": null,
            "grid_area": null,
            "grid_template_columns": null,
            "flex": null,
            "_model_name": "LayoutModel",
            "justify_items": null,
            "grid_row": null,
            "max_height": null,
            "align_content": null,
            "visibility": null,
            "align_self": null,
            "height": null,
            "min_height": null,
            "padding": null,
            "grid_auto_rows": null,
            "grid_gap": null,
            "max_width": null,
            "order": null,
            "_view_module_version": "1.2.0",
            "grid_template_areas": null,
            "object_position": null,
            "object_fit": null,
            "grid_auto_columns": null,
            "margin": null,
            "display": null,
            "left": null
          }
        },
        "e0acf35e26a74bc590d772d445d9e5c3": {
          "model_module": "@jupyter-widgets/controls",
          "model_name": "DescriptionStyleModel",
          "state": {
            "_view_name": "StyleView",
            "_model_name": "DescriptionStyleModel",
            "description_width": "",
            "_view_module": "@jupyter-widgets/base",
            "_model_module_version": "1.5.0",
            "_view_count": null,
            "_view_module_version": "1.2.0",
            "_model_module": "@jupyter-widgets/controls"
          }
        },
        "2f4f7056a50c440aa1d56e99aa6ab785": {
          "model_module": "@jupyter-widgets/base",
          "model_name": "LayoutModel",
          "state": {
            "_view_name": "LayoutView",
            "grid_template_rows": null,
            "right": null,
            "justify_content": null,
            "_view_module": "@jupyter-widgets/base",
            "overflow": null,
            "_model_module_version": "1.2.0",
            "_view_count": null,
            "flex_flow": null,
            "width": null,
            "min_width": null,
            "border": null,
            "align_items": null,
            "bottom": null,
            "_model_module": "@jupyter-widgets/base",
            "top": null,
            "grid_column": null,
            "overflow_y": null,
            "overflow_x": null,
            "grid_auto_flow": null,
            "grid_area": null,
            "grid_template_columns": null,
            "flex": null,
            "_model_name": "LayoutModel",
            "justify_items": null,
            "grid_row": null,
            "max_height": null,
            "align_content": null,
            "visibility": null,
            "align_self": null,
            "height": null,
            "min_height": null,
            "padding": null,
            "grid_auto_rows": null,
            "grid_gap": null,
            "max_width": null,
            "order": null,
            "_view_module_version": "1.2.0",
            "grid_template_areas": null,
            "object_position": null,
            "object_fit": null,
            "grid_auto_columns": null,
            "margin": null,
            "display": null,
            "left": null
          }
        }
      }
    }
  },
  "cells": [
    {
      "cell_type": "markdown",
      "metadata": {
        "id": "7V3FEWevXk5Z",
        "colab_type": "text"
      },
      "source": [
        "*Ref : https://medium.com/dair-ai/building-rnns-is-fun-with-pytorch-and-google-colab-3903ea9a3a79*"
      ]
    },
    {
      "cell_type": "code",
      "metadata": {
        "id": "WFbb4lzJRoz1",
        "colab_type": "code",
        "colab": {}
      },
      "source": [
        "import torch\n",
        "import torch.nn as nn\n",
        "import torch.nn.functional as F\n",
        "import os\n",
        "import numpy as np"
      ],
      "execution_count": 0,
      "outputs": []
    },
    {
      "cell_type": "markdown",
      "metadata": {
        "id": "B0DEtzJ3SGBP",
        "colab_type": "text"
      },
      "source": [
        "## RNN with single neuron \n",
        "\n",
        "![image.png](data:image/png;base64,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)\n"
      ]
    },
    {
      "cell_type": "code",
      "metadata": {
        "id": "DaWfRoTbR_Yy",
        "colab_type": "code",
        "colab": {}
      },
      "source": [
        "class SingleRNN(nn.Module):\n",
        "  def __init__(self,n_inputs,n_neurons):\n",
        "    super(SingleRNN,self).__init__()\n",
        "\n",
        "    self.Wx=torch.randn(n_inputs,n_neurons) #4*1\n",
        "    self.Wy=torch.randn(n_neurons,n_neurons) #1*1\n",
        "    self.b = torch.zeros(1,n_neurons) #1*4\n",
        "\n",
        "  def forward(self,X0,X1):\n",
        "    self.Y0 = torch.tanh(torch.mm(X0,self.Wx) + self.b) #4*1\n",
        "    self.Y1 = torch.tanh(torch.mm(X1,self.Wx) + self.b) #4*1\n",
        "  \n",
        "    return self.Y0,self.Y1"
      ],
      "execution_count": 0,
      "outputs": []
    },
    {
      "cell_type": "markdown",
      "metadata": {
        "id": "lO0DMDn-U-Yy",
        "colab_type": "text"
      },
      "source": [
        "In the above code, I have implemented a simple one layer, one neuron RNN. I initialized two weight matrices, Wx and Wy with values from a normal distribution. Wxcontains connection weights for the inputs of the current time step, while Wy contains connection weights for the outputs of the previous time step. We also added a bias b. The forward function computes two outputs — one for each time step (two overall). Note that we are using tanh as the non-linearity (activation function) via torch.tanh(...).\n",
        "\n",
        "![image.png](data:image/png;base64,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)"
      ]
    },
    {
      "cell_type": "code",
      "metadata": {
        "id": "Lr7bU8R-U-KX",
        "colab_type": "code",
        "colab": {}
      },
      "source": [
        "N_INPUT = 4\n",
        "N_NEURONS = 1\n",
        "\n",
        "X0_batch = torch.tensor([[0,1,2,0], [3,4,5,0], \n",
        "                         [6,7,8,0], [9,0,1,0]],\n",
        "                        dtype = torch.float) #t=0 => 4 X 4\n",
        "\n",
        "X1_batch = torch.tensor([[9,8,7,0], [0,0,0,0], \n",
        "                         [6,5,4,0], [3,2,1,0]],\n",
        "                        dtype = torch.float) #t=1 => 4 X 4\n",
        "\n",
        "model = SingleRNN(N_INPUT, N_NEURONS)\n",
        "\n",
        "Y0_val, Y1_val = model(X0_batch, X1_batch)"
      ],
      "execution_count": 0,
      "outputs": []
    },
    {
      "cell_type": "code",
      "metadata": {
        "id": "nIPXH5fsU0zz",
        "colab_type": "code",
        "outputId": "3265bd57-243b-4c48-c93b-23fc57c30390",
        "colab": {
          "base_uri": "https://localhost:8080/",
          "height": 136
        }
      },
      "source": [
        "Y0_val,Y1_val"
      ],
      "execution_count": 4,
      "outputs": [
        {
          "output_type": "execute_result",
          "data": {
            "text/plain": [
              "(tensor([[-0.9314],\n",
              "         [-1.0000],\n",
              "         [-1.0000],\n",
              "         [-1.0000]]), tensor([[-1.0000],\n",
              "         [ 0.0000],\n",
              "         [-1.0000],\n",
              "         [-1.0000]]))"
            ]
          },
          "metadata": {
            "tags": []
          },
          "execution_count": 4
        }
      ]
    },
    {
      "cell_type": "markdown",
      "metadata": {
        "id": "n_TxYBOUVaJU",
        "colab_type": "text"
      },
      "source": [
        "## RNN with multiple neurons\n",
        "\n",
        "![image.png](data:image/png;base64,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)"
      ]
    },
    {
      "cell_type": "code",
      "metadata": {
        "id": "iBc6hbnlVPJT",
        "colab_type": "code",
        "colab": {}
      },
      "source": [
        "class BasicRNN(nn.Module):\n",
        "  def __init__(self,n_inputs,n_neurons):\n",
        "    super(BasicRNN,self).__init__()\n",
        "    \n",
        "    self.Wx = torch.randn(n_inputs,n_neurons)\n",
        "    self.Wy = torch.randn(n_neurons,n_neurons)\n",
        "\n",
        "    self.b = torch.zeros(1,n_neurons)\n",
        "\n",
        "  def forward(self,X0,X1):\n",
        "    self.Y0 = torch.tanh(torch.mm(X0,self.Wx) + self.b)\n",
        "    self.Y1 = torch.tanh(torch.mm(X1,self.Wx) + self.b)\n",
        "\n",
        "    return self.Y0,self.Y1"
      ],
      "execution_count": 0,
      "outputs": []
    },
    {
      "cell_type": "code",
      "metadata": {
        "id": "C5CTeUF4Ws99",
        "colab_type": "code",
        "colab": {}
      },
      "source": [
        "\n",
        "N_INPUT = 3 # number of features in input\n",
        "N_NEURONS = 5 # number of units in layer\n",
        "\n",
        "X0_batch = torch.tensor([[0,1,2], [3,4,5], \n",
        "                         [6,7,8], [9,0,1]],\n",
        "                        dtype = torch.float) #t=0 => 4 X 3\n",
        "\n",
        "X1_batch = torch.tensor([[9,8,7], [0,0,0], \n",
        "                         [6,5,4], [3,2,1]],\n",
        "                        dtype = torch.float) #t=1 => 4 X 3\n",
        "\n",
        "model = BasicRNN(N_INPUT, N_NEURONS)\n",
        "\n",
        "Y0_val, Y1_val = model(X0_batch, X1_batch)"
      ],
      "execution_count": 0,
      "outputs": []
    },
    {
      "cell_type": "code",
      "metadata": {
        "id": "-ttDgo1iW0xu",
        "colab_type": "code",
        "outputId": "872307d1-8778-4fa9-985e-f1bb6112e5de",
        "colab": {
          "base_uri": "https://localhost:8080/",
          "height": 85
        }
      },
      "source": [
        "Y0_val"
      ],
      "execution_count": 7,
      "outputs": [
        {
          "output_type": "execute_result",
          "data": {
            "text/plain": [
              "tensor([[ 0.9888,  0.8826, -0.8290, -0.6721, -0.9974],\n",
              "        [ 1.0000,  1.0000, -1.0000, -1.0000, -1.0000],\n",
              "        [ 1.0000,  1.0000, -1.0000, -1.0000, -1.0000],\n",
              "        [-0.9979,  0.6405, -1.0000, -1.0000, -1.0000]])"
            ]
          },
          "metadata": {
            "tags": []
          },
          "execution_count": 7
        }
      ]
    },
    {
      "cell_type": "markdown",
      "metadata": {
        "id": "m-sdGz85XhmF",
        "colab_type": "text"
      },
      "source": [
        "If you take a closer look at the BasicRNN computation graph we have just built, it has a serious flaw. What if we wanted to build an architecture that supports extremely large inputs and outputs. The way it is currently built, it would require us to individually compute the outputs for every time step.\n",
        "\n",
        "So now we use pytorch built in RNNCell"
      ]
    },
    {
      "cell_type": "code",
      "metadata": {
        "id": "3Eb0Vm_UZBpn",
        "colab_type": "code",
        "outputId": "064db47d-32fe-49a5-857b-a009e8c3817c",
        "colab": {
          "base_uri": "https://localhost:8080/",
          "height": 136
        }
      },
      "source": [
        "rnn = nn.RNNCell(3, 5) # n_input X n_neurons\n",
        "\n",
        "X_batch = torch.tensor([[[0,1,2], [3,4,5], \n",
        "                         [6,7,8], [9,0,1]],\n",
        "                        [[9,8,7], [0,0,0], \n",
        "                         [6,5,4], [3,2,1]]\n",
        "                       ], dtype = torch.float) # X0 and X1\n",
        "\n",
        "hx = torch.randn(4, 5) # m X n_neurons\n",
        "output = []\n",
        "\n",
        "# for each time step\n",
        "for i in range(2):\n",
        "    hx = rnn(X_batch[i], hx)\n",
        "    output.append(hx)\n",
        "\n",
        "print(output)"
      ],
      "execution_count": 8,
      "outputs": [
        {
          "output_type": "stream",
          "text": [
            "[tensor([[-0.0103,  0.9818, -0.5122, -0.3161,  0.8036],\n",
            "        [-0.9941,  0.9991, -0.5059,  0.9548,  0.7928],\n",
            "        [-0.9818,  1.0000, -0.9990,  0.9957,  0.9926],\n",
            "        [-0.3583,  0.9914, -0.9976,  0.9964, -0.9733]], grad_fn=<TanhBackward>), tensor([[-0.9978,  1.0000, -0.9989,  0.9995,  0.6757],\n",
            "        [ 0.6918,  0.3139,  0.0656, -0.7929,  0.3620],\n",
            "        [-0.8735,  0.9997, -0.9752,  0.9489,  0.2319],\n",
            "        [-0.6539,  0.9733, -0.1546, -0.0198, -0.5439]], grad_fn=<TanhBackward>)]\n"
          ],
          "name": "stdout"
        }
      ]
    },
    {
      "cell_type": "code",
      "metadata": {
        "id": "i2gm09LLsb4x",
        "colab_type": "code",
        "outputId": "ef7a6c88-4212-478e-c89e-f5e9df0cf78e",
        "colab": {
          "base_uri": "https://localhost:8080/",
          "height": 34
        }
      },
      "source": [
        "X_batch.shape"
      ],
      "execution_count": 9,
      "outputs": [
        {
          "output_type": "execute_result",
          "data": {
            "text/plain": [
              "torch.Size([2, 4, 3])"
            ]
          },
          "metadata": {
            "tags": []
          },
          "execution_count": 9
        }
      ]
    },
    {
      "cell_type": "code",
      "metadata": {
        "id": "lL8zzZuVW2YP",
        "colab_type": "code",
        "colab": {
          "base_uri": "https://localhost:8080/",
          "height": 204
        },
        "outputId": "50f13e04-2301-434a-ff0d-3d2080d09882"
      },
      "source": [
        "class CleanBasicRNN(nn.Module):\n",
        "    def __init__(self, batch_size, n_inputs, n_neurons):\n",
        "        super(CleanBasicRNN, self).__init__()\n",
        "        \n",
        "        self.rnn = nn.RNNCell(n_inputs, n_neurons)\n",
        "        self.hx = torch.randn(batch_size, n_neurons) # initialize hidden state\n",
        "        \n",
        "    def forward(self, X):\n",
        "        output = []\n",
        "\n",
        "        # for each time step\n",
        "        for i in range(2):\n",
        "            self.hx = self.rnn(X[i], self.hx)\n",
        "            output.append(self.hx)\n",
        "        \n",
        "        return output, self.hx\n",
        "\n",
        "FIXED_BATCH_SIZE = 4 # our batch size is fixed for now\n",
        "N_INPUT = 3\n",
        "N_NEURONS = 5\n",
        "\n",
        "X_batch = torch.tensor([[[0,1,2], [3,4,5], \n",
        "                         [6,7,8], [9,0,1]],\n",
        "                        [[9,8,7], [0,0,0], \n",
        "                         [6,5,4], [3,2,1]]\n",
        "                       ], dtype = torch.float) # X0 and X1\n",
        "\n",
        "\n",
        "model = CleanBasicRNN(FIXED_BATCH_SIZE, N_INPUT, N_NEURONS)\n",
        "output_val, states_val = model(X_batch)\n",
        "print(output_val) # contains all output for all timesteps\n",
        "print(states_val) # contains values for final state or final timestep, i.e., t=1"
      ],
      "execution_count": 10,
      "outputs": [
        {
          "output_type": "stream",
          "text": [
            "[tensor([[-0.8219, -0.0742, -0.7939,  0.2414,  0.7083],\n",
            "        [-0.9943,  0.0624, -0.7261, -0.5351,  0.8394],\n",
            "        [-0.9475,  0.1424, -0.9862, -0.5709, -0.6719],\n",
            "        [ 0.4969,  0.9986,  0.9984,  0.7918, -0.9748]], grad_fn=<TanhBackward>), tensor([[-0.6154,  0.8572, -0.8451, -0.3996, -0.8324],\n",
            "        [ 0.0470, -0.3211, -0.7301,  0.3849, -0.4647],\n",
            "        [-0.6734,  0.7176, -0.3489,  0.1445, -0.8030],\n",
            "        [-0.6195,  0.8889,  0.4418, -0.1279,  0.6909]], grad_fn=<TanhBackward>)]\n",
            "tensor([[-0.6154,  0.8572, -0.8451, -0.3996, -0.8324],\n",
            "        [ 0.0470, -0.3211, -0.7301,  0.3849, -0.4647],\n",
            "        [-0.6734,  0.7176, -0.3489,  0.1445, -0.8030],\n",
            "        [-0.6195,  0.8889,  0.4418, -0.1279,  0.6909]], grad_fn=<TanhBackward>)\n"
          ],
          "name": "stdout"
        }
      ]
    },
    {
      "cell_type": "markdown",
      "metadata": {
        "id": "hNdJKGMlO3Qi",
        "colab_type": "text"
      },
      "source": [
        "## RNN for Image Classification"
      ]
    },
    {
      "cell_type": "code",
      "metadata": {
        "id": "bGXfEdlkYMV6",
        "colab_type": "code",
        "colab": {
          "base_uri": "https://localhost:8080/",
          "height": 315,
          "referenced_widgets": [
            "d9f921d104424e198c9ec8629fb47c40",
            "7c67b6516a5d4395bf78f146099bffd0",
            "0546c9be6593419cbcd8c1926e73fe92",
            "42b8674aa1544f5ba13a6ca48c1f9cdb",
            "7f0ef4577a4d45299f6e2aa2ad9a03dd",
            "f3fd0556b4544b11a8343386c1df41b2",
            "b1298ea2eb994fcebc47237621d12f58",
            "f4c825a5d4124293b37f56e39683340f",
            "70e17f3d1f2a4b6090177a9a668a3c9a",
            "de98235afa8847a7956a92acd81765bd",
            "b93a90b971ee4fcf8011ec6113d19578",
            "0e7024fa79d0430e9b32f9ba2ce99638",
            "789a5e2fe1704e93a747ae9e6cdc6b77",
            "73868f81de75486ba4dacfa343848868",
            "4f92ae23af234946b5ff8c5612721903",
            "3662d227fb3d4fc5aa92d579be8d96f1",
            "7de29316e099494ea621b16700aeb35b",
            "a7a5cd3cd488480eb6ad36f5d642d9c7",
            "7de468864c7847c8b3905328d0a8b22e",
            "639d862101eb4a359151c1ab45449ac9",
            "6c8293a1ef714b1ba4ae2967a5d809b4",
            "340e8eb39769426b8d67887e8f150654",
            "b90c4c8f3d37428c86507b85e72121df",
            "53dac0a1c3d1440cab44743db8b2f7af",
            "999d3c01c6da466f8ee835de4edb2660",
            "c5ba8e2ff2bb44d992eade17ff1abde6",
            "3675bc15bb31418e970f7a4d7e8103a6",
            "4c3912b683954e28ab6f480731ef891c",
            "ab313c67509f43abb337b8a406abd479",
            "e7f3c4794f2d453fb38e450f8ef41d67",
            "e0acf35e26a74bc590d772d445d9e5c3",
            "2f4f7056a50c440aa1d56e99aa6ab785"
          ]
        },
        "outputId": "9a91e195-84ce-4c57-c52b-3994c4a3f308"
      },
      "source": [
        "import torchvision\n",
        "import torchvision.transforms as transforms\n",
        "\n",
        "BATCH_SIZE = 64\n",
        "\n",
        "\n",
        "# list all transformations\n",
        "transform = transforms.Compose(\n",
        "    [transforms.ToTensor()])\n",
        "\n",
        "# download and load training dataset\n",
        "trainset = torchvision.datasets.MNIST(root='./data', train=True,\n",
        "                                        download=True, transform=transform)\n",
        "trainloader = torch.utils.data.DataLoader(trainset, batch_size=BATCH_SIZE,\n",
        "                                          shuffle=True, num_workers=2)\n",
        "\n",
        "# download and load testing dataset\n",
        "testset = torchvision.datasets.MNIST(root='./data', train=False,\n",
        "                                       download=True, transform=transform)\n",
        "testloader = torch.utils.data.DataLoader(testset, batch_size=BATCH_SIZE,\n",
        "                                         shuffle=False, num_workers=2)\n",
        "\n"
      ],
      "execution_count": 11,
      "outputs": [
        {
          "output_type": "stream",
          "text": [
            "Downloading http://yann.lecun.com/exdb/mnist/train-images-idx3-ubyte.gz to ./data/MNIST/raw/train-images-idx3-ubyte.gz\n"
          ],
          "name": "stdout"
        },
        {
          "output_type": "display_data",
          "data": {
            "application/vnd.jupyter.widget-view+json": {
              "model_id": "d9f921d104424e198c9ec8629fb47c40",
              "version_minor": 0,
              "version_major": 2
            },
            "text/plain": [
              "HBox(children=(IntProgress(value=1, bar_style='info', max=1), HTML(value='')))"
            ]
          },
          "metadata": {
            "tags": []
          }
        },
        {
          "output_type": "stream",
          "text": [
            "Extracting ./data/MNIST/raw/train-images-idx3-ubyte.gz to ./data/MNIST/raw\n",
            "Downloading http://yann.lecun.com/exdb/mnist/train-labels-idx1-ubyte.gz to ./data/MNIST/raw/train-labels-idx1-ubyte.gz\n"
          ],
          "name": "stdout"
        },
        {
          "output_type": "display_data",
          "data": {
            "application/vnd.jupyter.widget-view+json": {
              "model_id": "70e17f3d1f2a4b6090177a9a668a3c9a",
              "version_minor": 0,
              "version_major": 2
            },
            "text/plain": [
              "HBox(children=(IntProgress(value=1, bar_style='info', max=1), HTML(value='')))"
            ]
          },
          "metadata": {
            "tags": []
          }
        },
        {
          "output_type": "stream",
          "text": [
            "Extracting ./data/MNIST/raw/train-labels-idx1-ubyte.gz to ./data/MNIST/raw\n",
            "Downloading http://yann.lecun.com/exdb/mnist/t10k-images-idx3-ubyte.gz to ./data/MNIST/raw/t10k-images-idx3-ubyte.gz\n"
          ],
          "name": "stdout"
        },
        {
          "output_type": "display_data",
          "data": {
            "application/vnd.jupyter.widget-view+json": {
              "model_id": "7de29316e099494ea621b16700aeb35b",
              "version_minor": 0,
              "version_major": 2
            },
            "text/plain": [
              "HBox(children=(IntProgress(value=1, bar_style='info', max=1), HTML(value='')))"
            ]
          },
          "metadata": {
            "tags": []
          }
        },
        {
          "output_type": "stream",
          "text": [
            "Extracting ./data/MNIST/raw/t10k-images-idx3-ubyte.gz to ./data/MNIST/raw\n",
            "Downloading http://yann.lecun.com/exdb/mnist/t10k-labels-idx1-ubyte.gz to ./data/MNIST/raw/t10k-labels-idx1-ubyte.gz\n"
          ],
          "name": "stdout"
        },
        {
          "output_type": "display_data",
          "data": {
            "application/vnd.jupyter.widget-view+json": {
              "model_id": "999d3c01c6da466f8ee835de4edb2660",
              "version_minor": 0,
              "version_major": 2
            },
            "text/plain": [
              "HBox(children=(IntProgress(value=1, bar_style='info', max=1), HTML(value='')))"
            ]
          },
          "metadata": {
            "tags": []
          }
        },
        {
          "output_type": "stream",
          "text": [
            "Extracting ./data/MNIST/raw/t10k-labels-idx1-ubyte.gz to ./data/MNIST/raw\n",
            "Processing...\n",
            "Done!\n"
          ],
          "name": "stdout"
        }
      ]
    },
    {
      "cell_type": "code",
      "metadata": {
        "id": "MIGUkWw6XJaE",
        "colab_type": "code",
        "colab": {
          "base_uri": "https://localhost:8080/",
          "height": 269
        },
        "outputId": "1716f1e2-46bb-42c6-f0e9-6918039e158f"
      },
      "source": [
        "import matplotlib.pyplot as plt\n",
        "import numpy as np\n",
        "\n",
        "def imshow(img):\n",
        "  npimg = img.numpy()\n",
        "  plt.imshow(np.transpose(npimg,(1,2,0)))\n",
        "\n",
        "\n",
        "dataiter = iter(trainloader)\n",
        "\n",
        "images,labels = dataiter.next()\n",
        "\n",
        "#show images\n",
        "imshow(torchvision.utils.make_grid(images))"
      ],
      "execution_count": 17,
      "outputs": [
        {
          "output_type": "display_data",
          "data": {
            "image/png": "[encoded data removed]",
            "text/plain": [
              "<Figure size 432x288 with 1 Axes>"
            ]
          },
          "metadata": {
            "tags": [],
            "needs_background": "light"
          }
        }
      ]
    },
    {
      "cell_type": "markdown",
      "metadata": {
        "id": "jpqXKaUbZZIn",
        "colab_type": "text"
      },
      "source": [
        "## Computation Graph for RNN\n",
        "\n",
        "\n",
        "![image.png](data:image/png;base64,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)"
      ]
    },
    {
      "cell_type": "code",
      "metadata": {
        "id": "jZZH2hkPhpHU",
        "colab_type": "code",
        "colab": {}
      },
      "source": [
        "# parameters \n",
        "N_STEPS = 28\n",
        "N_INPUTS = 28\n",
        "N_NEURONS = 150\n",
        "N_OUTPUTS = 10\n",
        "N_EPHOCS = 10"
      ],
      "execution_count": 0,
      "outputs": []
    },
    {
      "cell_type": "code",
      "metadata": {
        "id": "747t8_QzXsv5",
        "colab_type": "code",
        "colab": {}
      },
      "source": [
        "\n",
        "class ImageRNN(nn.Module):\n",
        "    def __init__(self, batch_size, n_steps, n_inputs, n_neurons, n_outputs):\n",
        "        super(ImageRNN, self).__init__()\n",
        "        \n",
        "        self.n_neurons = n_neurons\n",
        "        self.batch_size = batch_size\n",
        "        self.n_steps = n_steps\n",
        "        self.n_inputs = n_inputs\n",
        "        self.n_outputs = n_outputs\n",
        "        \n",
        "        self.basic_rnn = nn.RNN(self.n_inputs, self.n_neurons) \n",
        "        \n",
        "        self.FC = nn.Linear(self.n_neurons, self.n_outputs)\n",
        "        \n",
        "    def init_hidden(self,):\n",
        "        # (num_layers, batch_size, n_neurons)\n",
        "        return (torch.zeros(1, self.batch_size, self.n_neurons))\n",
        "        \n",
        "    def forward(self, X):\n",
        "        # transforms X to dimensions: n_steps X batch_size X n_inputs\n",
        "        X = X.permute(1, 0, 2) \n",
        "        \n",
        "        self.batch_size = X.size(1)\n",
        "        self.hidden = self.init_hidden()\n",
        "        \n",
        "        lstm_out, self.hidden = self.basic_rnn(X, self.hidden)      \n",
        "        out = self.FC(self.hidden)\n",
        "        \n",
        "        return out.view(-1, self.n_outputs) # batch_size X n_output"
      ],
      "execution_count": 0,
      "outputs": []
    },
    {
      "cell_type": "code",
      "metadata": {
        "id": "X8X-AkHXX1ZQ",
        "colab_type": "code",
        "colab": {
          "base_uri": "https://localhost:8080/",
          "height": 357
        },
        "outputId": "5f85572c-817c-440a-ba39-b2ba1b02e740"
      },
      "source": [
        "dataiter = iter(trainloader)\n",
        "images, labels = dataiter.next()\n",
        "model = ImageRNN(BATCH_SIZE, N_STEPS, N_INPUTS, N_NEURONS, N_OUTPUTS)\n",
        "logits = model(images.view(-1, 28,28))\n",
        "print(logits[0:10])\n"
      ],
      "execution_count": 29,
      "outputs": [
        {
          "output_type": "stream",
          "text": [
            "tensor([[-0.0440, -0.1301,  0.0177, -0.0354, -0.0333, -0.0618, -0.0481,  0.0958,\n",
            "         -0.1395, -0.0031],\n",
            "        [-0.0476, -0.1258,  0.0224, -0.0383, -0.0424, -0.0553, -0.0514,  0.1051,\n",
            "         -0.1163, -0.0071],\n",
            "        [-0.0630, -0.1173,  0.0207, -0.0362, -0.0320, -0.0444, -0.0567,  0.1006,\n",
            "         -0.1189, -0.0047],\n",
            "        [-0.0477, -0.1426,  0.0207, -0.0396, -0.0385, -0.0460, -0.0482,  0.1032,\n",
            "         -0.1218, -0.0041],\n",
            "        [-0.0447, -0.1467,  0.0179, -0.0477, -0.0381, -0.0484, -0.0537,  0.1070,\n",
            "         -0.1270, -0.0015],\n",
            "        [-0.0470, -0.1400,  0.0161, -0.0363, -0.0418, -0.0635, -0.0374,  0.0948,\n",
            "         -0.1439, -0.0102],\n",
            "        [-0.0348, -0.1558,  0.0154, -0.0456, -0.0458, -0.0559, -0.0402,  0.1072,\n",
            "         -0.1349, -0.0180],\n",
            "        [-0.0568, -0.1248,  0.0211, -0.0369, -0.0376, -0.0507, -0.0493,  0.1022,\n",
            "         -0.1143, -0.0045],\n",
            "        [-0.0435, -0.1419,  0.0211, -0.0385, -0.0444, -0.0493, -0.0491,  0.1030,\n",
            "         -0.1184, -0.0026],\n",
            "        [-0.0326, -0.1405,  0.0182, -0.0487, -0.0429, -0.0463, -0.0526,  0.1103,\n",
            "         -0.1147,  0.0018]], grad_fn=<SliceBackward>)\n"
          ],
          "name": "stdout"
        }
      ]
    },
    {
      "cell_type": "code",
      "metadata": {
        "id": "t2zHVk1lgLz-",
        "colab_type": "code",
        "colab": {}
      },
      "source": [
        "#train\n",
        "import torch.optim as optim\n",
        "# Device\n",
        "device = torch.device(\"cuda:0\" if torch.cuda.is_available() else \"cpu\")\n",
        "\n",
        "# Model instance\n",
        "model = ImageRNN(BATCH_SIZE, N_STEPS, N_INPUTS, N_NEURONS, N_OUTPUTS)\n",
        "criterion = nn.CrossEntropyLoss()\n",
        "optimizer = optim.Adam(model.parameters(), lr=0.001)\n",
        "\n",
        "def get_accuracy(logit, target, batch_size):\n",
        "    ''' Obtain accuracy for training round '''\n",
        "    corrects = (torch.max(logit, 1)[1].view(target.size()).data == target.data).sum()\n",
        "    accuracy = 100.0 * corrects/batch_size\n",
        "    return accuracy.item()"
      ],
      "execution_count": 0,
      "outputs": []
    },
    {
      "cell_type": "code",
      "metadata": {
        "id": "aKpPTqhAjULR",
        "colab_type": "code",
        "colab": {
          "base_uri": "https://localhost:8080/",
          "height": 187
        },
        "outputId": "4d779578-a444-4f65-d716-15691eeb2c15"
      },
      "source": [
        "for epoch in range(N_EPHOCS):  # loop over the dataset multiple times\n",
        "    train_running_loss = 0.0\n",
        "    train_acc = 0.0\n",
        "    model.train()\n",
        "    \n",
        "    # TRAINING ROUND\n",
        "    for i, data in enumerate(trainloader):\n",
        "         # zero the parameter gradients\n",
        "        optimizer.zero_grad()\n",
        "        \n",
        "        # reset hidden states\n",
        "        model.hidden = model.init_hidden() \n",
        "        \n",
        "        # get the inputs\n",
        "        inputs, labels = data\n",
        "        inputs = inputs.view(-1, 28,28) \n",
        "\n",
        "        # forward + backward + optimize\n",
        "        outputs = model(inputs)\n",
        "\n",
        "        loss = criterion(outputs, labels)\n",
        "        loss.backward()\n",
        "        optimizer.step()\n",
        "\n",
        "        train_running_loss += loss.detach().item()\n",
        "        train_acc += get_accuracy(outputs, labels, BATCH_SIZE)\n",
        "         \n",
        "    model.eval()\n",
        "    print('Epoch:  %d | Loss: %.4f | Train Accuracy: %.2f' \n",
        "          %(epoch, train_running_loss / i, train_acc/i))"
      ],
      "execution_count": 37,
      "outputs": [
        {
          "output_type": "stream",
          "text": [
            "Epoch:  0 | Loss: 0.7543 | Train Accuracy: 75.60\n",
            "Epoch:  1 | Loss: 0.3133 | Train Accuracy: 91.05\n",
            "Epoch:  2 | Loss: 0.2172 | Train Accuracy: 93.84\n",
            "Epoch:  3 | Loss: 0.1939 | Train Accuracy: 94.58\n",
            "Epoch:  4 | Loss: 0.1706 | Train Accuracy: 95.19\n",
            "Epoch:  5 | Loss: 0.1529 | Train Accuracy: 95.72\n",
            "Epoch:  6 | Loss: 0.1392 | Train Accuracy: 96.21\n",
            "Epoch:  7 | Loss: 0.1382 | Train Accuracy: 96.20\n",
            "Epoch:  8 | Loss: 0.1264 | Train Accuracy: 96.58\n",
            "Epoch:  9 | Loss: 0.1232 | Train Accuracy: 96.62\n"
          ],
          "name": "stdout"
        }
      ]
    },
    {
      "cell_type": "code",
      "metadata": {
        "id": "lhcJhO28nvb6",
        "colab_type": "code",
        "colab": {
          "base_uri": "https://localhost:8080/",
          "height": 34
        },
        "outputId": "ad74e594-ce9e-4829-e373-ff75e34e2796"
      },
      "source": [
        "\n",
        "test_acc = 0.0\n",
        "for i, data in enumerate(testloader, 0):\n",
        "    inputs, labels = data\n",
        "    inputs = inputs.view(-1, 28, 28)\n",
        "\n",
        "    outputs = model(inputs)\n",
        "\n",
        "    test_acc += get_accuracy(outputs, labels, BATCH_SIZE)\n",
        "        \n",
        "print('Test Accuracy: %.2f'%( test_acc/i))"
      ],
      "execution_count": 38,
      "outputs": [
        {
          "output_type": "stream",
          "text": [
            "Test Accuracy: 96.94\n"
          ],
          "name": "stdout"
        }
      ]
    }
  ]
}